{
 "cells": [
  {
   "attachments": {},
   "cell_type": "markdown",
   "metadata": {},
   "source": [
    "boxplot "
   ]
  },
  {
   "cell_type": "code",
   "execution_count": null,
   "metadata": {},
   "outputs": [],
   "source": [
    "import matplotlib.pyplot as plt\n",
    "import numpy as np\n",
    "\n",
    "\n",
    "data1 = [0.0011, 0.0012, 0.0013]\n",
    "data2 = [0.0013, 0.002, 0.0015]\n",
    "data3 = [0.0022, 0.0023, 0.0021]\n",
    "data4 = [0.0025, 0.003, 0.0031]\n",
    "\n",
    "\n",
    "all_data = [data1, data2, data3, data4]\n",
    "labels = ['re-30%', 're-50%', 're-70%', 're-100%']\n",
    "\n",
    "bplot1 = plt.boxplot(all_data,\n",
    "                     vert=True,  # vertical box alignment\n",
    "                     patch_artist=True,  # fill with color\n",
    "                     labels=labels,  # will be used to label x-ticks\n",
    "                     showfliers=False)  \n",
    "\n",
    "plt.show()"
   ]
  }
 ],
 "metadata": {
  "kernelspec": {
   "display_name": "base",
   "language": "python",
   "name": "python3"
  },
  "language_info": {
   "name": "python",
   "version": "3.9.13 (main, Oct 13 2022, 16:12:19) \n[Clang 12.0.0 ]"
  },
  "orig_nbformat": 4,
  "vscode": {
   "interpreter": {
    "hash": "40d3a090f54c6569ab1632332b64b2c03c39dcf918b08424e98f38b5ae0af88f"
   }
  }
 },
 "nbformat": 4,
 "nbformat_minor": 2
}
